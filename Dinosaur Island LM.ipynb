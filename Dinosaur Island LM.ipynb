{
 "cells": [
  {
   "cell_type": "markdown",
   "metadata": {},
   "source": [
    "# Language modelling"
   ]
  },
  {
   "cell_type": "markdown",
   "metadata": {},
   "source": [
    "In this tutorial we will use two character level language models to create dinosaur names. These models are:\n",
    "* bigram model\n",
    "* recurrent neural network model.\n",
    "\n",
    "Why are they different?"
   ]
  },
  {
   "cell_type": "markdown",
   "metadata": {},
   "source": [
    "![rnn](images/dino.png)"
   ]
  },
  {
   "cell_type": "markdown",
   "metadata": {},
   "source": [
    "## Bigram model\n",
    "\n",
    "Uncomment the cell below if you do not have NLTK installed."
   ]
  },
  {
   "cell_type": "code",
   "execution_count": 1,
   "metadata": {},
   "outputs": [
    {
     "name": "stdout",
     "output_type": "stream",
     "text": [
      "['<aachenosaurus>', '<aardonyx>', '<abdallahsaurus>', '<abelisaurus>', '<abrictosaurus>', '<abrosaurus>', '<abydosaurus>', '<acanthopholis>', '<achelousaurus>', '<acheroraptor>']\n"
     ]
    }
   ],
   "source": [
    "names = ['<' + name.strip().lower() + '>' for name in open('dinos.txt').readlines()]\n",
    "print(names[:10])"
   ]
  },
  {
   "cell_type": "code",
   "execution_count": 2,
   "metadata": {},
   "outputs": [],
   "source": [
    "#!pip install nltk"
   ]
  },
  {
   "cell_type": "code",
   "execution_count": 3,
   "metadata": {},
   "outputs": [],
   "source": [
    "import nltk"
   ]
  },
  {
   "cell_type": "markdown",
   "metadata": {},
   "source": [
    "**Step 1.** Compute frequency of each character"
   ]
  },
  {
   "cell_type": "code",
   "execution_count": 4,
   "metadata": {},
   "outputs": [],
   "source": [
    "chars = [char  for name in names for char in name]\n",
    "freq = nltk.FreqDist(chars)"
   ]
  },
  {
   "cell_type": "code",
   "execution_count": 5,
   "metadata": {},
   "outputs": [
    {
     "name": "stdout",
     "output_type": "stream",
     "text": [
      "['<', 'a', 'c', 'h', 'e', 'n', 'o', 's', 'u', 'r', '>', 'd', 'y', 'x', 'b', 'l', 'i', 't', 'p', 'v', 'm', 'g', 'f', 'j', 'k', 'w', 'z', 'q']\n"
     ]
    }
   ],
   "source": [
    "print(list(freq.keys()))"
   ]
  },
  {
   "cell_type": "code",
   "execution_count": 6,
   "metadata": {},
   "outputs": [
    {
     "data": {
      "text/plain": [
       "[('a', 2487),\n",
       " ('s', 2285),\n",
       " ('u', 2123),\n",
       " ('o', 1710),\n",
       " ('r', 1704),\n",
       " ('<', 1536),\n",
       " ('>', 1536),\n",
       " ('n', 1081),\n",
       " ('i', 944),\n",
       " ('e', 913)]"
      ]
     },
     "execution_count": 6,
     "metadata": {},
     "output_type": "execute_result"
    }
   ],
   "source": [
    "freq.most_common(10)"
   ]
  },
  {
   "cell_type": "markdown",
   "metadata": {},
   "source": [
    "Define a function to estimate probabilty of character"
   ]
  },
  {
   "cell_type": "code",
   "execution_count": 7,
   "metadata": {},
   "outputs": [],
   "source": [
    "l = sum([freq[char] for char in freq])\n",
    "def unigram_prob(char):\n",
    "    return freq[char] / l"
   ]
  },
  {
   "cell_type": "code",
   "execution_count": 8,
   "metadata": {},
   "outputs": [
    {
     "name": "stdout",
     "output_type": "stream",
     "text": [
      "p(a) = 0.1160\n"
     ]
    }
   ],
   "source": [
    "print('p(a) = %1.4f' %unigram_prob('a'))"
   ]
  },
  {
   "cell_type": "markdown",
   "metadata": {},
   "source": [
    "**Step 2.** Compute frequency of each character condtioned on the previous one"
   ]
  },
  {
   "cell_type": "code",
   "execution_count": 9,
   "metadata": {},
   "outputs": [],
   "source": [
    "cfreq = nltk.ConditionalFreqDist(nltk.bigrams(chars))"
   ]
  },
  {
   "cell_type": "code",
   "execution_count": 10,
   "metadata": {},
   "outputs": [
    {
     "data": {
      "text/plain": [
       "FreqDist({'>': 138,\n",
       "          'a': 11,\n",
       "          'b': 24,\n",
       "          'c': 100,\n",
       "          'd': 36,\n",
       "          'e': 42,\n",
       "          'f': 6,\n",
       "          'g': 40,\n",
       "          'h': 17,\n",
       "          'i': 23,\n",
       "          'j': 5,\n",
       "          'k': 20,\n",
       "          'l': 138,\n",
       "          'm': 68,\n",
       "          'n': 347,\n",
       "          'o': 22,\n",
       "          'p': 89,\n",
       "          'q': 3,\n",
       "          'r': 124,\n",
       "          's': 171,\n",
       "          't': 204,\n",
       "          'u': 791,\n",
       "          'v': 30,\n",
       "          'w': 6,\n",
       "          'x': 12,\n",
       "          'y': 12,\n",
       "          'z': 8})"
      ]
     },
     "execution_count": 10,
     "metadata": {},
     "output_type": "execute_result"
    }
   ],
   "source": [
    "cfreq['a']"
   ]
  },
  {
   "cell_type": "markdown",
   "metadata": {},
   "source": [
    "**Step 3.** Use MLE to estimate condtional probabilities"
   ]
  },
  {
   "cell_type": "code",
   "execution_count": 11,
   "metadata": {},
   "outputs": [],
   "source": [
    "cprob = nltk.ConditionalProbDist(cfreq, nltk.MLEProbDist)"
   ]
  },
  {
   "cell_type": "code",
   "execution_count": 12,
   "metadata": {},
   "outputs": [
    {
     "name": "stdout",
     "output_type": "stream",
     "text": [
      "p(a a) = 0.0044\n",
      "p(a b) = 0.0097\n",
      "p(a u) = 0.3181\n"
     ]
    }
   ],
   "source": [
    "print('p(a a) = %1.4f' %cprob['a'].prob('a'))\n",
    "print('p(a b) = %1.4f' %cprob['a'].prob('b'))\n",
    "print('p(a u) = %1.4f' %cprob['a'].prob('u'))"
   ]
  },
  {
   "cell_type": "markdown",
   "metadata": {},
   "source": [
    "We can use cprob to generate next characters"
   ]
  },
  {
   "cell_type": "code",
   "execution_count": 13,
   "metadata": {},
   "outputs": [
    {
     "data": {
      "text/plain": [
       "'u'"
      ]
     },
     "execution_count": 13,
     "metadata": {},
     "output_type": "execute_result"
    }
   ],
   "source": [
    "cprob['a'].generate()"
   ]
  },
  {
   "cell_type": "markdown",
   "metadata": {},
   "source": [
    "### Task 1.\n",
    "a. Write a function to generate a dinosaur name of **fixed** length. Use '<' as a start of name symbol.\n",
    "\n",
    "b. Write a to generate a dinosaur names of any length. "
   ]
  },
  {
   "cell_type": "markdown",
   "metadata": {},
   "source": [
    "## Recurrent neural networks\n",
    "\n",
    "Input:\n",
    "\n",
    "$x_{1:n} = x_1, x_2, \\ldots, x_n$, $x_i \\in \\mathbb{R}^{d_{in}}$\n",
    "\n",
    "For each input $x_{1:i}$ we get an output $y_i$:\n",
    "\n",
    "$y_i = RNN(x_{1:i})$, $y_i \\in \\mathbb{R}^{d_{out}}$\n",
    "\n",
    "For the whole input sequence $x_{1:n}$:\n",
    "\n",
    "$y_{1:n} = RNN^{*}(x_{1:n})$, $y_i \\in \\mathbb{R}^{d_{out}}$"
   ]
  },
  {
   "cell_type": "markdown",
   "metadata": {},
   "source": [
    "$R$ is a recursive activation function with two inputs: $x_i$ и $s_{i-1}$ (state vector)\n",
    "\n",
    "$RNN^{*}(x_{1:n}, s_0) = y_{1:n}$\n",
    "\n",
    "$y_i = O(s_i) = g(W^{out}[s_{i} ,x_i] +b)\n",
    "\n",
    "$s_i = R(s_{i-1}, x_i)$\n",
    "\n",
    "$s_i = R(s_{i-1}, x_i) = g(W^{hid}[s_{i-1} ,x_i] +b)$  -- concatenate $[s_{i-1}, x]$\n",
    "\n",
    "$x_i \\in \\mathbb{R}^{d_{in}}$, $y_i \\in \\mathbb{R}^{ d_{out}}$, $s_i \\in \\mathbb{R}^{d_{hid}}$\n",
    "\n",
    "$W^{hid} \\in \\mathbb{R}^{(d_{in}+d_{out}) \\times d_{hid}}$, $W^{out} \\in \\mathbb{R}^{d_{hid} \\times d_{out}}$"
   ]
  },
  {
   "cell_type": "markdown",
   "metadata": {},
   "source": [
    "![rnn](images/rnn.png)"
   ]
  },
  {
   "cell_type": "markdown",
   "metadata": {},
   "source": [
    "We are going to create an RNN-LM using pytorch"
   ]
  },
  {
   "cell_type": "code",
   "execution_count": 16,
   "metadata": {},
   "outputs": [],
   "source": [
    "import numpy as np\n",
    "import random\n",
    "import torch\n",
    "import torch.nn as nn\n",
    "import torch.optim as optim\n",
    "import pdb\n",
    "from torch.utils.data import Dataset, DataLoader\n",
    "\n",
    "%load_ext autoreload\n",
    "%autoreload 2\n",
    "\n",
    "torch.set_printoptions(linewidth=200)"
   ]
  },
  {
   "cell_type": "code",
   "execution_count": 17,
   "metadata": {},
   "outputs": [],
   "source": [
    "device = torch.device(\"cuda:0\" if torch.cuda.is_available() else \"cpu\")\n",
    "hidden_size = 50"
   ]
  },
  {
   "cell_type": "markdown",
   "metadata": {},
   "source": [
    "**Step 1**. Prepare the dataset"
   ]
  },
  {
   "cell_type": "code",
   "execution_count": 208,
   "metadata": {
    "code_folding": [
     0
    ]
   },
   "outputs": [],
   "source": [
    "class DinosDataset(Dataset):\n",
    "    def __init__(self):\n",
    "        super().__init__()\n",
    "        with open('dinos.txt') as f:\n",
    "            content = f.read().lower()\n",
    "            self.vocab = sorted(set(content)) + ['<', '>']\n",
    "            self.vocab_size = len(self.vocab)\n",
    "            self.lines = content.splitlines()\n",
    "        self.ch_to_idx = {c:i for i, c in enumerate(self.vocab)}\n",
    "        self.idx_to_ch = {i:c for i, c in enumerate(self.vocab)}\n",
    "    \n",
    "    def __getitem__(self, index):\n",
    "        line = self.lines[index]\n",
    "        #teacher forcing\n",
    "        x_str = '<' + line \n",
    "        y_str = line + '>' \n",
    "        x = torch.zeros([len(x_str), self.vocab_size], dtype=torch.float)\n",
    "        y = torch.empty(len(x_str), dtype=torch.long)\n",
    "        for i, (x_ch, y_ch) in enumerate(zip(x_str, y_str)):\n",
    "            x[i][self.ch_to_idx[x_ch]] = 1\n",
    "            y[i] = self.ch_to_idx[y_ch]\n",
    "        \n",
    "        return x, y\n",
    "    \n",
    "    def __len__(self):\n",
    "        return len(self.lines)"
   ]
  },
  {
   "cell_type": "code",
   "execution_count": 209,
   "metadata": {},
   "outputs": [],
   "source": [
    "trn_ds = DinosDataset()\n",
    "trn_dl = DataLoader(trn_ds, shuffle=True)"
   ]
  },
  {
   "cell_type": "code",
   "execution_count": 210,
   "metadata": {},
   "outputs": [
    {
     "data": {
      "text/plain": [
       "'aardonyx'"
      ]
     },
     "execution_count": 210,
     "metadata": {},
     "output_type": "execute_result"
    }
   ],
   "source": [
    "trn_ds.lines[1]"
   ]
  },
  {
   "cell_type": "code",
   "execution_count": 211,
   "metadata": {},
   "outputs": [
    {
     "name": "stdout",
     "output_type": "stream",
     "text": [
      "{0: '\\n', 1: 'a', 2: 'b', 3: 'c', 4: 'd', 5: 'e', 6: 'f', 7: 'g', 8: 'h', 9: 'i', 10: 'j', 11: 'k', 12: 'l', 13: 'm', 14: 'n', 15: 'o', 16: 'p', 17: 'q', 18: 'r', 19: 's', 20: 't', 21: 'u', 22: 'v', 23: 'w', 24: 'x', 25: 'y', 26: 'z', 27: '<', 28: '>'}\n"
     ]
    }
   ],
   "source": [
    "print(trn_ds.idx_to_ch)"
   ]
  },
  {
   "cell_type": "code",
   "execution_count": 212,
   "metadata": {},
   "outputs": [
    {
     "data": {
      "text/plain": [
       "29"
      ]
     },
     "execution_count": 212,
     "metadata": {},
     "output_type": "execute_result"
    }
   ],
   "source": [
    "trn_ds.vocab_size"
   ]
  },
  {
   "cell_type": "code",
   "execution_count": 213,
   "metadata": {},
   "outputs": [],
   "source": [
    "x, y = trn_ds[1]"
   ]
  },
  {
   "cell_type": "code",
   "execution_count": 214,
   "metadata": {
    "scrolled": true
   },
   "outputs": [
    {
     "data": {
      "text/plain": [
       "torch.Size([9, 29])"
      ]
     },
     "execution_count": 214,
     "metadata": {},
     "output_type": "execute_result"
    }
   ],
   "source": [
    "x.shape"
   ]
  },
  {
   "cell_type": "code",
   "execution_count": 215,
   "metadata": {},
   "outputs": [
    {
     "data": {
      "text/plain": [
       "torch.Size([9])"
      ]
     },
     "execution_count": 215,
     "metadata": {},
     "output_type": "execute_result"
    }
   ],
   "source": [
    "y.shape"
   ]
  },
  {
   "cell_type": "markdown",
   "metadata": {},
   "source": [
    "**Step 2**. Define a model, loss function and optimization algorithm"
   ]
  },
  {
   "cell_type": "code",
   "execution_count": 216,
   "metadata": {
    "code_folding": []
   },
   "outputs": [],
   "source": [
    "class RNN(nn.Module):\n",
    "    def __init__(self, input_size, hidden_size, output_size):\n",
    "        super().__init__()\n",
    "        self.i2h = nn.Linear(input_size + hidden_size, hidden_size)\n",
    "        self.dropout = nn.Dropout(0.3)\n",
    "        self.i2o = nn.Linear(input_size + hidden_size, output_size)\n",
    "    \n",
    "    def forward(self, h_prev, x):\n",
    "        combined = torch.cat([h_prev, x], dim = 1) # concatenate x and h\n",
    "        h = torch.tanh(self.dropout(self.i2h(combined)))\n",
    "        y = self.i2o(combined)\n",
    "        return h, y"
   ]
  },
  {
   "cell_type": "code",
   "execution_count": 217,
   "metadata": {},
   "outputs": [],
   "source": [
    "model = RNN(trn_ds.vocab_size, hidden_size, trn_ds.vocab_size).to(device)\n",
    "loss_fn = nn.CrossEntropyLoss()\n",
    "optimizer = optim.SGD(model.parameters(), lr=1e-2)"
   ]
  },
  {
   "cell_type": "markdown",
   "metadata": {},
   "source": [
    "**Step 3**. Declare a sampling procedure"
   ]
  },
  {
   "cell_type": "markdown",
   "metadata": {},
   "source": [
    "![rnn](images/dinos3.png)"
   ]
  },
  {
   "cell_type": "code",
   "execution_count": 223,
   "metadata": {
    "code_folding": []
   },
   "outputs": [],
   "source": [
    "def sample(model):\n",
    "    model.eval()\n",
    "    word_size=0\n",
    "    newline_idx = trn_ds.ch_to_idx['>']\n",
    "    with torch.no_grad():\n",
    "        h_prev = torch.zeros([1, hidden_size], dtype=torch.float, device=device)\n",
    "        x = h_prev.new_zeros([1, trn_ds.vocab_size])\n",
    "        start_char_idx = trn_ds.ch_to_idx['<']\n",
    "        indices = [start_char_idx]\n",
    "        x[0, start_char_idx] = 1\n",
    "        predicted_char_idx = start_char_idx\n",
    "        \n",
    "        while predicted_char_idx != newline_idx and word_size != 50:\n",
    "            h_prev, y_pred = model(h_prev, x)\n",
    "            y_softmax_scores = torch.softmax(y_pred, dim=1)\n",
    "            \n",
    "            np.random.seed(np.random.randint(1, 5000))\n",
    "            idx = np.random.choice(np.arange(trn_ds.vocab_size), p=y_softmax_scores.cpu().numpy().ravel())\n",
    "            indices.append(idx)\n",
    "            \n",
    "            x = (y_pred == y_pred.max(1)[0]).float()\n",
    " \n",
    "            \n",
    "            predicted_char_idx = idx\n",
    "            \n",
    "            word_size += 1\n",
    "        \n",
    "        if word_size == 50:\n",
    "            indices.append(newline_idx)\n",
    "    return indices"
   ]
  },
  {
   "cell_type": "code",
   "execution_count": 243,
   "metadata": {
    "code_folding": []
   },
   "outputs": [],
   "source": [
    "def print_sample(sample_idxs):\n",
    "    [print(trn_ds.idx_to_ch[x], end ='') for x in sample_idxs]\n",
    "    print()"
   ]
  },
  {
   "cell_type": "markdown",
   "metadata": {},
   "source": [
    "**Step 4**. Almost done! Train the model"
   ]
  },
  {
   "cell_type": "code",
   "execution_count": 244,
   "metadata": {
    "code_folding": []
   },
   "outputs": [],
   "source": [
    "def train_one_epoch(model, loss_fn, optimizer):\n",
    "    model.train()\n",
    "    for line_num, (x, y) in enumerate(trn_dl):\n",
    "        loss = 0\n",
    "        optimizer.zero_grad()\n",
    "        h_prev = torch.zeros([1, hidden_size], dtype=torch.float, device=device)\n",
    "        x, y = x.to(device), y.to(device)\n",
    "        for i in range(x.shape[1]):\n",
    "            h_prev, y_pred = model(h_prev, x[:, i])\n",
    "            loss += loss_fn(y_pred, y[:, i])\n",
    "            \n",
    "        if (line_num+1) % 100 == 0:\n",
    "            print_sample(sample(model))\n",
    "        loss.backward()\n",
    "        optimizer.step()"
   ]
  },
  {
   "cell_type": "code",
   "execution_count": 245,
   "metadata": {
    "code_folding": []
   },
   "outputs": [],
   "source": [
    "def train(model, loss_fn, optimizer, dataset='dinos', epochs=1):\n",
    "    for e in range(1, epochs+1):\n",
    "        print('Epoch:{}'.format(e))\n",
    "        train_one_epoch(model, loss_fn, optimizer)\n",
    "        print()"
   ]
  },
  {
   "cell_type": "code",
   "execution_count": 246,
   "metadata": {
    "scrolled": false
   },
   "outputs": [
    {
     "name": "stdout",
     "output_type": "stream",
     "text": [
      "Epoch:1\n",
      "<inaisaurus>\n",
      "<sqakitnaurus>\n",
      "<pudussngos>\n",
      "<zknrtsauros>\n",
      "<aukuaauras>\n",
      "<snnasaurus>\n",
      "<suroeturus>\n",
      "<putaoocaurus>\n",
      "<ahpnanaurus>\n",
      "<anttsaurus>\n",
      "<rtryslos>\n",
      "<angcmochurps>\n",
      "<laihtoraurus>\n",
      "<uisusnisur>\n",
      "<soruuaradrus>\n",
      "\n",
      "Epoch:2\n",
      "<fubcsiarus>\n",
      "<hcraivosaurus>\n",
      "<rurysauruo>\n",
      "<lcctaoo>\n",
      "<agroahsrus>\n",
      "<santosa>\n",
      "<sonhosaurus>\n",
      "<tagicgocaurus>\n",
      "<lagbrgicaurus>\n",
      "<busupaurus>\n",
      "<ltruaaueus>\n",
      "<smsactuaus>\n",
      "<gnbucaurus>\n",
      "<turhsiurus>\n",
      "<suaoraurus>\n",
      "\n",
      "Epoch:3\n",
      "<tcasoara>\n",
      "<gnbuaaurus>\n",
      "<suristusus>\n",
      "<suankanoasaurus>\n",
      "<arhunaerus>\n",
      "<pucuspurus>\n",
      "<zurostcrus>\n",
      "<scsitaurus>\n",
      "<curibterus>\n",
      "<busupaurus>\n",
      "<lurubisaurus>\n",
      "<tcatlbaurus>\n",
      "<sdixouous>\n",
      "<lllonwssauros>\n",
      "<amsasaulus>\n",
      "\n",
      "Epoch:4\n",
      "<aratliiuk>\n",
      "<wrsis>\n",
      "<spmtsaurus>\n",
      "<tbroaaueus>\n",
      "<ahsobcorustue>\n",
      "<wruersupaurus>\n",
      "<lrouaosaurus>\n",
      "<tcatobaurus>\n",
      "<scruptgtoshurus>\n",
      "<sauruchpaisaur>\n",
      "<agrnangsaurus>\n",
      "<wrshspurus>\n",
      "<jysirosaurus>\n",
      "<aurucauras>\n",
      "<snratapourus>\n",
      "\n",
      "Epoch:5\n",
      "<spatrlush>\n",
      "<suaonaurus>\n",
      "<tccupaurus>\n",
      "<auahyptdiurus>\n",
      "<rntuseuris>\n",
      "<amsasaunus>\n",
      "<apiunadrus>\n",
      "<oucusiurus>\n",
      "<yuruszcrus>\n",
      "<scrnocaurus>\n",
      "<snrasaurus>\n",
      "<susoiosaurus>\n",
      "<tbrnaaunus>\n",
      "<agstainrustug>\n",
      "<wrsbsturus>\n",
      "\n",
      "Epoch:6\n",
      "<kysnsiuaus>\n",
      "<gicrlsaurui>\n",
      "<curoatirus>\n",
      "<bususaurus>\n",
      "<lusucaurus>\n",
      "<sauaasgasaurus>\n",
      "<aauotaspurus>\n",
      "<kuugosoerus>\n",
      "<saugucauras>\n",
      "<snrasaurus>\n",
      "<suophosaurus>\n",
      "<tcenamlirus>\n",
      "<burasaurus>\n",
      "<anyrtirspurus>\n",
      "<yurostcrus>\n",
      "\n",
      "Epoch:7\n",
      "<sdrisaesup>\n",
      "<curiatgrus>\n",
      "<bususaurus>\n",
      "<luruaaunus>\n",
      "<slsadosaurus>\n",
      "<aucovaurus>\n",
      "<llsur>\n",
      "<sprusauras>\n",
      "<aurucauros>\n",
      "<sanarcaurus>\n",
      "<ttihosgxsaurus>\n",
      "<lcpscouras>\n",
      "<lbrcsaurus>\n",
      "<wrscsturus>\n",
      "<kysnptsbaurus>\n",
      "\n",
      "Epoch:8\n",
      "<smtbassaui>\n",
      "<gnauaaurus>\n",
      "<suroslutus>\n",
      "<suaopaurus>\n",
      "<tcctrapaurus>\n",
      "<antovcsiurus>\n",
      "<jytsosodrus>\n",
      "<scplrcauras>\n",
      "<sndctcrus>\n",
      "<bususaurus>\n",
      "<ltsucaunus>\n",
      "<sauacsacrus>\n",
      "<hctccusup>\n",
      "<suresopsurus>\n",
      "<anrartiros>\n",
      "\n",
      "Epoch:9\n",
      "<burapaurus>\n",
      "<anyptdaurus>\n",
      "<rnystos>\n",
      "<anebhsaurus>\n",
      "<spaoitnris>\n",
      "<jvnucsmurus>\n",
      "<kysosttaurus>\n",
      "<aurucauras>\n",
      "<snrascotaurus>\n",
      "<llstpturus>\n",
      "<anrancnrus>\n",
      "<buraoaur>\n",
      "<aucnvo>\n",
      "<bususaurus>\n",
      "<lhurapalrus>\n",
      "\n",
      "Epoch:10\n",
      "<eubasacrus>\n",
      "<hcrar>\n",
      "<puattsaurus>\n",
      "<srostcrua>\n",
      "<scsisamrum>\n",
      "<curiatas>\n",
      "<pucusturus>\n",
      "<yurus>\n",
      "<anrer>\n",
      "<aulucaurus>\n",
      "<snraraptouetys>\n",
      "<dusnvourus>\n",
      "<iobasasaurus>\n",
      "<apltllasaurus>\n",
      "<susomhurus>\n",
      "\n",
      "Epoch:11\n",
      "<pusarifrus>\n",
      "<erbchibaurus>\n",
      "<sansosaurus>\n",
      "<rinuorhuros>\n",
      "<amsasaurus>\n",
      "<aqctlicenrus>\n",
      "<btstalrus>\n",
      "<spotocaurus>\n",
      "<smsaitueus>\n",
      "<gnbuaaurus>\n",
      "<suriseurus>\n",
      "<suanicruo>\n",
      "<euaasabrus>\n",
      "<hcsar>\n",
      "<puctsiurus>\n",
      "\n",
      "Epoch:12\n",
      "<yuiptsaurus>\n",
      "<ateuacsacrus>\n",
      "<hcsanturus>\n",
      "<srmusaurus>\n",
      "<tbgpanaurus>\n",
      "<burasaurus>\n",
      "<aptsuatturottht>\n",
      "<ltsucaurus>\n",
      "<smsalosaurus>\n",
      "<aubovcurus>\n",
      "<llsuruurus>\n",
      "<anicesaossgs>\n",
      "<lbrisanaus>\n",
      "<wssesturus>\n",
      "<kysosiurus>\n",
      "\n",
      "Epoch:13\n",
      "<euaultbet>\n",
      "<aalropaurus>\n",
      "<tauosilrus>\n",
      "<satrqcaurus>\n",
      "<snsahtuaus>\n",
      "<gnatcosaurus>\n",
      "<llrsiysaurus>\n",
      "<lcrucuptcoosaurus>\n",
      "<auaptotax>\n",
      "<srctoeutk>\n",
      "<suaonasrus>\n",
      "<tcctmcia>\n",
      "<gncuatsssurus>\n",
      "<dtriyonosierus>\n",
      "<sdshradsicur>\n",
      "\n",
      "Epoch:14\n",
      "<gnbuaaurus>\n",
      "<surissssus>\n",
      "<suapacrum>\n",
      "<fpbdrpaurus>\n",
      "<aucossurus>\n",
      "<llrum>\n",
      "<srrusaurus>\n",
      "<aurucaoras>\n",
      "<snrasarrt>\n",
      "<busuoaurus>\n",
      "<lrttapaerus>\n",
      "<eubeshcrus>\n",
      "<hcsaryshurus>\n",
      "<dtonysaurus>\n",
      "<lcrteophurus>\n",
      "\n",
      "Epoch:15\n",
      "<llsopaurus>\n",
      "<tiptopaurus>\n",
      "<ltsuanpaesaurus>\n",
      "<snahrtpauras>\n",
      "<pucrsturus>\n",
      "<yuirotaisaurus>\n",
      "<tcatocaurus>\n",
      "<sdrus>\n",
      "<buttomiurus>\n",
      "<pusanocaurus>\n",
      "<ahsparaship>\n",
      "<aptotessaurus>\n",
      "<yursspcaurus>\n",
      "<smucasairus>\n",
      "<hctaisaurus>\n",
      "\n",
      "Epoch:16\n",
      "<llstousaurur>\n",
      "<kcruconter>\n",
      "<lbrisaurus>\n",
      "<wrsesdurus>\n",
      "<jyrpotraanas>\n",
      "<aucuadiunus>\n",
      "<gnaoanxruks>\n",
      "<sqmusaurus>\n",
      "<tbhpansatesaus>\n",
      "<apcunaeros>\n",
      "<puctsosaurus>\n",
      "<ltsuaasfus>\n",
      "<smsaltsaurus>\n",
      "<apciurtltu>\n",
      "<llsrrturus>\n",
      "\n",
      "Epoch:17\n",
      "<aaocosaurus>\n",
      "<sabicseoaurus>\n",
      "<tausonesaurus>\n",
      "<suaopaurus>\n",
      "<tccooceurus>\n",
      "<sdgyrturus>\n",
      "<dhrgyslsusuusuusuu>\n",
      "<tcctoaraurus>\n",
      "<anvsoeysourus>\n",
      "<ylnnosauros>\n",
      "<atcuacrnaos>\n",
      "<gnbuacurus>\n",
      "<turisosuurus>\n",
      "<anraroclurus>\n",
      "<laietdadros>\n",
      "\n",
      "Epoch:18\n",
      "<oucusaurus>\n",
      "<yurusucaurus>\n",
      "<smucgsaerus>\n",
      "<gcsarusturus>\n",
      "<durntuscurus>\n",
      "<amtcpnocrus>\n",
      "<llsoraurus>\n",
      "<thsustis>\n",
      "<kuugostgrus>\n",
      "<scsataiturus>\n",
      "<gacsanuseurus>\n",
      "<dtrhyscurus>\n",
      "<kcgtgnurus>\n",
      "<lbrasipaoryxs>\n",
      "<busuraurus>\n",
      "\n",
      "Epoch:19\n",
      "<lstoanaurus>\n",
      "<eucasoaaurus>\n",
      "<serurturus>\n",
      "<durouturus>\n",
      "<ipaprdnuros>\n",
      "<lbrisaueus>\n",
      "<wssisourus>\n",
      "<kysopsscaurus>\n",
      "<slsahopairsus>\n",
      "<scktoulshurus>\n",
      "<jytptusas>\n",
      "<altbolodasgalus>\n",
      "<gcscitaurus>\n",
      "<llstlusaurus>\n",
      "<lcktcoptag>\n",
      "\n",
      "Epoch:20\n",
      "<lbpiscuaus>\n",
      "<wssesourus>\n",
      "<kysosmurus>\n",
      "<euaultcluscur>\n",
      "<gactaryurus>\n",
      "<snctos>\n",
      "<sprusaurus>\n",
      "<aukuaauras>\n",
      "<snccrcaurus>\n",
      "<surhrorturus>\n",
      "<apran>\n",
      "<aihradopaioupedsort>\n",
      "<tgruthashusus>\n",
      "<suaopaesis>\n",
      "<tccupapisroasaurus>\n",
      "\n",
      "Epoch:21\n",
      "<surus>\n",
      "<rnytorysaurus>\n",
      "<atgraelunus>\n",
      "<gncucaurus>\n",
      "<slngosiuhurus>\n",
      "<inbosaurus>\n",
      "<spanaurus>\n",
      "<aptusaurus>\n",
      "<runwsaurus>\n",
      "<lcrucpurus>\n",
      "<lbkhtlodourus>\n",
      "<bissonpurus>\n",
      "<pusaohcrui>\n",
      "<eubhsacrus>\n",
      "<hcsgryshurus>\n",
      "\n",
      "Epoch:22\n",
      "<dtrntosaurus>\n",
      "<alscrisaurur>\n",
      "<curkaterus>\n",
      "<buttalrus>\n",
      "<snptsbisaurus>\n",
      "<tcatiaoaoriirmo>\n",
      "<ouatosaurus>\n",
      "<sprtsaurus>\n",
      "<auctaeosaurus>\n",
      "<aubosourus>\n",
      "<llrur>\n",
      "<sprusaurus>\n",
      "<aukuaeshcris>\n",
      "<gcseltrsmot>\n",
      "<llropuurus>\n",
      "\n",
      "Epoch:23\n",
      "<anrcrucaurus>\n",
      "<mbrhsaunus>\n",
      "<weucosrnaurus>\n",
      "<ltruanoaaurus>\n",
      "<ahsraraurus>\n",
      "<anttsauosoot>\n",
      "<kytospurus>\n",
      "<etarisaesadrus>\n",
      "<hcsanustpty>\n",
      "<llsurystor>\n",
      "<aniagtaurus>\n",
      "<snaiisaurus>\n",
      "<wsthstsaurus>\n",
      "<soottclsaurus>\n",
      "<tccuraurus>\n",
      "\n",
      "Epoch:24\n",
      "<auaotosaurus>\n",
      "<rtnwsaurub>\n",
      "<lamrasaurus>\n",
      "<ardurndaurus>\n",
      "<busurisaurus>\n",
      "<suaosaurus>\n",
      "<tccurapior>\n",
      "<aucmsaurus>\n",
      "<llrur>\n",
      "<snnusahiaaurus>\n",
      "<agsuakljuros>\n",
      "<juotassrnaurus>\n",
      "<ltsuahsaurus>\n",
      "<tccuraoasaurus>\n",
      "<wrugtsourus>\n",
      "\n",
      "Epoch:25\n",
      "<yukittcaurus>\n",
      "<smtalosaurus>\n",
      "<aucotosaurus>\n",
      "<rurwsnsaurus>\n",
      "<eubunsmrus>\n",
      "<llsorasaurus>\n",
      "<suopepurus>\n",
      "<pttbknaurus>\n",
      "<tcatecia>\n",
      "<gacsapyouat>\n",
      "<sqdusayrus>\n",
      "<tanicaurus>\n",
      "<agsoaaurus>\n",
      "<scpurturus>\n",
      "<dtsovturus>\n",
      "\n",
      "Epoch:26\n",
      "<ipcosaur>\n",
      "<agotapeplei>\n",
      "<antovasturus>\n",
      "<jyrosotahodeuas>\n",
      "<tcdurapaurus>\n",
      "<anyrtdos>\n",
      "<llrshztsauras>\n",
      "<alsasauhus>\n",
      "<ancunacrus>\n",
      "<puatturus>\n",
      "<jysorosanucs>\n",
      "<auruaauras>\n",
      "<snrasasrs>\n",
      "<bustnassa>\n",
      "<sprusaurus>\n",
      "\n",
      "Epoch:27\n",
      "<auluaaurus>\n",
      "<snpataurus>\n",
      "<suromturus>\n",
      "<pusaiadrui>\n",
      "<eucisacrus>\n",
      "<hcsgrusnurus>\n",
      "<dtroviurus>\n",
      "<hnbcsase>\n",
      "<agsoanmeurus>\n",
      "<jvruaosiurus>\n",
      "<yurtrscaurus>\n",
      "<slsaiosaurus>\n",
      "<auaptssurus>\n",
      "<eingysaurus>\n",
      "<lcguckuros>\n",
      "\n",
      "Epoch:28\n",
      "<mbecongcsurus>\n",
      "<busuresaurus>\n",
      "<spbgodaurus>\n",
      "<agtobaurus>\n",
      "<scczkurus>\n",
      "<llsupturus>\n",
      "<anichsasaurus>\n",
      "<arathmauiox>\n",
      "<tgsurimourus>\n",
      "<pusargcaurus>\n",
      "<aaugapaurus>\n",
      "<aauiuktssaurus>\n",
      "<spsrucaurus>\n",
      "<smteisobaurus>\n",
      "<scrustrrus>\n",
      "\n",
      "Epoch:29\n",
      "<dtros>\n",
      "<ltruanpaurus>\n",
      "<tcatobaurus>\n",
      "<scrupthiurus>\n",
      "<rpwrppuros>\n",
      "<amtatgsaurun>\n",
      "<cucnasan>\n",
      "<ouattuosaurus>\n",
      "<pusainaraurus>\n",
      "<burarauaol>\n",
      "<anyttaurus>\n",
      "<rscztnosamrus>\n",
      "<scslsaithambuos>\n",
      "<scrwrukturus>\n",
      "<rnvurostdasepsaur>\n",
      "\n",
      "Epoch:30\n",
      "<agroaourus>\n",
      "<sansrsaurus>\n",
      "<rtgzpnosoorus>\n",
      "<scseramnocaurus>\n",
      "<scrzrrmeurus>\n",
      "<qptur>\n",
      "<suanacisaurus>\n",
      "<spamesnneudaurus>\n",
      "<turbsoptor>\n",
      "<suboraurus>\n",
      "<tccuraurus>\n",
      "<aucosota>\n",
      "<suhhsnoteurus>\n",
      "<inbnsaooshaorasaurur>\n",
      "<antusaurus>\n",
      "\n",
      "Epoch:31\n",
      "<rtnusiuttaurts>\n",
      "<atitaurug>\n",
      "<curncsans>\n",
      "<thsushurus>\n",
      "<snotolatas>\n",
      "<atdradeurus>\n",
      "<gnardgwspurus>\n",
      "<durotturus>\n",
      "<iransauiucns>\n",
      "<arcunacris>\n",
      "<oucrsiurus>\n",
      "<yurtrrcaurus>\n",
      "<snsaiopaurus>\n",
      "<auartotaurus>\n",
      "<rrg>\n",
      "\n",
      "Epoch:32\n",
      "<snotvasasrus>\n",
      "<eubatocsetyxisdeurus>\n",
      "<suiirus>\n",
      "<sppttanodeooyx>\n",
      "<agsocaurus>\n",
      "<scrusturus>\n",
      "<dusnvgurus>\n",
      "<inbauasaurus>\n",
      "<argurocsats>\n",
      "<tgtssihotu>\n",
      "<srrrtaurus>\n",
      "<aurucauris>\n",
      "<sncaocotaurus>\n",
      "<llstmyurus>\n",
      "<anraoolthtaurum>\n",
      "\n",
      "Epoch:33\n",
      "<cudlasaurus>\n",
      "<sutmmosaurus>\n",
      "<tbgranigrus>\n",
      "<burarcshlaon>\n",
      "<wsscssooraurus>\n",
      "<pusapaorus>\n",
      "<gubisccrus>\n",
      "<hctarourus>\n",
      "<spgrsaurus>\n",
      "<tbrlchom>\n",
      "<euadrraurus>\n",
      "<auclvaurus>\n",
      "<llromvsaurus>\n",
      "<kcgscsisaurup>\n",
      "<cuenasaurus>\n",
      "\n",
      "Epoch:34\n",
      "<siughsaurus>\n",
      "<suahpapaurus>\n",
      "<burapaurus>\n",
      "<antovaptor>\n",
      "<rtgysaurus>\n",
      "<lcgraopiurus>\n",
      "<llsllaurus>\n",
      "<tksusaurus>\n",
      "<snrtsauros>\n",
      "<atercasthr>\n",
      "<snccrdgxhurus>\n",
      "<llstpturus>\n",
      "<apraosaurus>\n",
      "<sabrorhlainu>\n",
      "<puatosihus>\n",
      "\n",
      "Epoch:35\n",
      "<yinrssaurus>\n",
      "<ailralslas>\n",
      "<salatciyr>\n",
      "<couoonosaurus>\n",
      "<tbcsanadrus>\n",
      "<cinaonteravaos>\n",
      "<tisushurus>\n",
      "<srrusauros>\n",
      "<aupucauris>\n",
      "<snrasaurus>\n",
      "<susorturus>\n",
      "<ptubosaurus>\n",
      "<tccooaonaurus>\n",
      "<jvkuhburus>\n",
      "<rpvtoospirus>\n",
      "\n",
      "Epoch:36\n",
      "<scrostts>\n",
      "<aodondapdosaurus>\n",
      "<llstnuurus>\n",
      "<anraoodaurus>\n",
      "<lbrasaurus>\n",
      "<wtsismurus>\n",
      "<kxrnosoccurus>\n",
      "<smsagiurus>\n",
      "<gnbucaurus>\n",
      "<tuihosaurus>\n",
      "<tbgicaurus>\n",
      "<ahssanmiurus>\n",
      "<ivnvgsortir>\n",
      "<kuurosocrus>\n",
      "<sauiuceosaurus>\n",
      "\n",
      "Epoch:37\n",
      "<aicrupoits>\n",
      "<lltootostrsopiaushur>\n",
      "<aisnarastor>\n",
      "<antova>\n",
      "<turirossurus>\n",
      "<aanaosawaurus>\n",
      "<apatgsaurus>\n",
      "<tgtosia>\n",
      "<rnxtossxauoas>\n",
      "<atgudauras>\n",
      "<smkasaurus>\n",
      "<susolcurus>\n",
      "<pusaoicaurus>\n",
      "<agsiaophurus>\n",
      "<jvnoasosaurus>\n",
      "\n",
      "Epoch:38\n",
      "<snorvangirus>\n",
      "<fubisocinsisauius>\n",
      "<tgsusiurus>\n",
      "<snsusaurus>\n",
      "<atcoadosaurus>\n",
      "<auantseurus>\n",
      "<dsrpysaurus>\n",
      "<lcruapurus>\n",
      "<lbrisaurus>\n"
     ]
    },
    {
     "name": "stdout",
     "output_type": "stream",
     "text": [
      "<waugpsmurus>\n",
      "<yurtrocaurus>\n",
      "<smucauras>\n",
      "<snrarapturus>\n",
      "<srpusaurus>\n",
      "<tbrocaurus>\n",
      "\n",
      "Epoch:39\n",
      "<aaugasaurus>\n",
      "<aauougotisas>\n",
      "<kuugostareierp>\n",
      "<ftbdspapiorib>\n",
      "<aauiuipurus>\n",
      "<snvunotokrus>\n",
      "<scrlrcdsaurus>\n",
      "<hcreosaurus>\n",
      "<llssnturus>\n",
      "<anrapaerus>\n",
      "<burapaurus>\n",
      "<aptusaurus>\n",
      "<rtbzrno>\n",
      "<tbmocaurus>\n",
      "<agrnaiascsa>\n",
      "\n",
      "Epoch:40\n",
      "<anyovesaurus>\n",
      "<jxtosaurus>\n",
      "<euctntcrus>\n",
      "<llthocpgrus>\n",
      "<bururaurus>\n",
      "<ltsubepaorssn>\n",
      "<alsobaurus>\n",
      "<sdjyosast>\n",
      "<llstrysaurus>\n",
      "<lcltaontar>\n",
      "<lbikrnarrus>\n",
      "<puauosaurus>\n",
      "<sprtvauros>\n",
      "<aomtaniurus>\n",
      "<gnaudaurus>\n",
      "\n",
      "Epoch:41\n",
      "<suedoravrps>\n",
      "<tbkocaurus>\n",
      "<airuaarrus>\n",
      "<scgypyasaurus>\n",
      "<kytkspurus>\n",
      "<eubuc>\n",
      "<airoaoioeratso>\n",
      "<puahrpojhurus>\n",
      "<pusapoaloe>\n",
      "<fuaepnasaurus>\n",
      "<antotaurus>\n",
      "<rtrzrpauros>\n",
      "<altasaurus>\n",
      "<aobsioc>\n",
      "<anysrltxuurus>\n",
      "\n",
      "Epoch:42\n",
      "<yugusya>\n",
      "<lcnudhuras>\n",
      "<lbgbsauius>\n",
      "<wrtgsuterr>\n",
      "<kysoseurus>\n",
      "<eucuptcrus>\n",
      "<ljslpasaurus>\n",
      "<supllaurus>\n",
      "<psubonasaurus>\n",
      "<buebohomaurus>\n",
      "<oucuvinator>\n",
      "<sqsusaosaurus>\n",
      "<tcdtocaurus>\n",
      "<sdhvourus>\n",
      "<llpus>\n",
      "\n",
      "Epoch:43\n",
      "<snkusaurus>\n",
      "<atbvahosaurus>\n",
      "<aucovaurus>\n",
      "<llsus>\n",
      "<sqsusaurus>\n",
      "<aumucernasaurus>\n",
      "<anytrdon>\n",
      "<llssnuodon>\n",
      "<anrai>\n",
      "<auguadssaurus>\n",
      "<aucosttj>\n",
      "<tuihonithurus>\n",
      "<inalodomiurus>\n",
      "<llunodhurus>\n",
      "<bitthnsausus>\n",
      "\n",
      "Epoch:44\n",
      "<stbdhalocokiurus>\n",
      "<laurofogrus>\n",
      "<biuropaurus>\n",
      "<qiuahoccurus>\n",
      "<agoparrus>\n",
      "<aicgustasuurus>\n",
      "<kutgospcrus>\n",
      "<sdshucms>\n",
      "<anchidaratrps>\n",
      "<susolr>\n",
      "<jysirosaurus>\n",
      "<augtalaurus>\n",
      "<gnbtdislus>\n",
      "<sughsaurus>\n",
      "<subioanhurus>\n",
      "\n",
      "Epoch:45\n",
      "<burasourus>\n",
      "<anysrecurus>\n",
      "<pnyusaurus>\n",
      "<amteunocaures>\n",
      "<sngauaurus>\n",
      "<surhanos>\n",
      "<snlstaurus>\n",
      "<auruadtsaurus>\n",
      "<aucovdurus>\n",
      "<llsus>\n",
      "<snposbnpaurus>\n",
      "<tckurasaurus>\n",
      "<aososaurus>\n",
      "<rur>\n",
      "<sarpucgocaurus>\n",
      "\n",
      "Epoch:46\n",
      "<ahruc>\n",
      "<cmngcalrus>\n",
      "<busurisaurus>\n",
      "<suanraurus>\n",
      "<tcctrasaurus>\n",
      "<aaugudossihsiurus>\n",
      "<suasocgsaurus>\n",
      "<spailonairus>\n",
      "<pucttsurus>\n",
      "<ykrrosanamrus>\n",
      "<epblopaurus>\n",
      "<apcrursurus>\n",
      "<dronyslsaurus>\n",
      "<euatitcaosaurus>\n",
      "<auantsydiurus>\n",
      "\n",
      "Epoch:47\n",
      "<rnyosaurus>\n",
      "<amsasaugus>\n",
      "<andulacrus>\n",
      "<pucrtrohaurus>\n",
      "<piubopalte>\n",
      "<gtccrnairaurus>\n",
      "<ktotattosaurus>\n",
      "<lhusanaurus>\n",
      "<euagosaurus>\n",
      "<auchuosa>\n",
      "<sugiropturus>\n",
      "<anganodburus>\n",
      "<lbgesaurus>\n",
      "<wstarottasus>\n",
      "<snstrasaurus>\n",
      "\n",
      "Epoch:48\n",
      "<eubeskcrus>\n",
      "<gcsar>\n",
      "<oucuspunus>\n",
      "<yurusocepeor>\n",
      "<smucasacrus>\n",
      "<hcscitlxliurus>\n",
      "<qotupnstar>\n",
      "<amsarhuals>\n",
      "<apatinaurus>\n",
      "<tgnusatrus>\n",
      "<spsouciairus>\n",
      "<euadsnarus>\n",
      "<hcsaruridrus>\n",
      "<dsslvosauris>\n",
      "<amsasaurus>\n",
      "\n",
      "Epoch:49\n",
      "<apathna>\n",
      "<antusaurus>\n",
      "<rsi>\n",
      "<snlstas>\n",
      "<alterpiurus>\n",
      "<llsnpauaurus>\n",
      "<susrisaurus>\n",
      "<suahiagsaurus>\n",
      "<sraalsesaurus>\n",
      "<tgsrshnturus>\n",
      "<pusapeeaurus>\n",
      "<agsoaaurus>\n",
      "<scrus>\n",
      "<busuraos>\n",
      "<yustrrcaurus>\n",
      "\n",
      "Epoch:50\n",
      "<smsalrus>\n",
      "<cugictgaurus>\n",
      "<sireoshsiurus>\n",
      "<iacirciurus>\n",
      "<lbiasaurus>\n",
      "<wrsarssaurus>\n",
      "<snoosaurms>\n",
      "<aucuadomcia>\n",
      "<gnbtaktaurus>\n",
      "<laromvomso>\n",
      "<anrapterus>\n",
      "<buraraurus>\n",
      "<anttsatouris>\n",
      "<ixroospcaurus>\n",
      "<snsahourus>\n",
      "\n"
     ]
    }
   ],
   "source": [
    "train(model, loss_fn, optimizer, epochs = 50)"
   ]
  },
  {
   "cell_type": "markdown",
   "metadata": {},
   "source": [
    "### Task 2.\n",
    "Rewrite the sampling function so that pangrams (words that contain each character of the alphabet only ones)\n",
    "\n",
    "### Task 3.\n",
    "Rewrite the sampling function so that is it is possible to change the sampling temperature\n",
    "\n",
    "### Task 4.\n",
    "Implement the beam search for sampling"
   ]
  },
  {
   "cell_type": "markdown",
   "metadata": {},
   "source": [
    "# Reference\n",
    "\n",
    "1. Sampling in  RNN: https://nlp.stanford.edu/blog/maximum-likelihood-decoding-with-rnns-the-good-the-bad-and-the-ugly/\n",
    "2. Coursera course (main source): https://github.com/furkanu/deeplearning.ai-pytorch/tree/master/5-%20Sequence%20Models\n",
    "3. Coursera course (main source): https://github.com/Kulbear/deep-learning-coursera/blob/master/Sequence%20Models/Dinosaurus%20Island%20--%20Character%20level%20language%20model%20final%20-%20v3.ipynb\n",
    "4. LSTM: http://colah.github.io/posts/2015-08-Understanding-LSTMs/"
   ]
  }
 ],
 "metadata": {
  "kernelspec": {
   "display_name": "Python 3",
   "language": "python",
   "name": "python3"
  },
  "language_info": {
   "codemirror_mode": {
    "name": "ipython",
    "version": 3
   },
   "file_extension": ".py",
   "mimetype": "text/x-python",
   "name": "python",
   "nbconvert_exporter": "python",
   "pygments_lexer": "ipython3",
   "version": "3.6.0"
  }
 },
 "nbformat": 4,
 "nbformat_minor": 2
}
